{
  "nbformat": 4,
  "nbformat_minor": 0,
  "metadata": {
    "colab": {
      "provenance": [],
      "authorship_tag": "ABX9TyMCyD8MssFHZQ+/LaeuPwUq",
      "include_colab_link": true
    },
    "kernelspec": {
      "name": "python3",
      "display_name": "Python 3"
    },
    "language_info": {
      "name": "python"
    }
  },
  "cells": [
    {
      "cell_type": "markdown",
      "metadata": {
        "id": "view-in-github",
        "colab_type": "text"
      },
      "source": [
        "<a href=\"https://colab.research.google.com/github/cesarlongart101/Modelo_Oro/blob/main/Modelo_Oro.ipynb\" target=\"_parent\"><img src=\"https://colab.research.google.com/assets/colab-badge.svg\" alt=\"Open In Colab\"/></a>"
      ]
    },
    {
      "cell_type": "code",
      "execution_count": null,
      "metadata": {
        "id": "OnYQ2IVM4-sb"
      },
      "outputs": [],
      "source": [
        "pip list"
      ]
    },
    {
      "cell_type": "code",
      "source": [
        "import pandas as pd\n",
        "#from bs4 import BeautifulSoup\n",
        "import requests\n",
        "\n",
        "\n",
        "anos = [2000, 2001, 2002, 2003, 2004, 2005, 2006, 2007, 2008, 2009, 2010, 2011, 2012, 2013, 2014, 2015, 2016, 2017, 2018, 2019, 2020, 2021]\n",
        "\n",
        "url = 'https://www.usagold.com/daily-gold-price-history/?ddYears=2000'\n",
        "\n",
        "# This restores the same behavior as before.\n",
        "response = requests.get(url, headers=\n",
        "    {\n",
        "        \"User-Agent\":\"Mozilla/5.0 (Windows NT 10.0; Win64; x64) AppleWebKit/537.36 (KHTML, like Gecko) Chrome/114.0.0.0 Safari/537.36\"\n",
        "    })\n",
        "#print(response.text)\n",
        "tabla_1 = pd.read_html(response.text, attrs = {'id': 'pricehistorytable'})\n",
        "print(len(tabla_1))\n",
        "\n",
        "print(type(tabla_1))\n",
        "print(tabla_1)"
      ],
      "metadata": {
        "id": "BTbbaTeV5G7B",
        "outputId": "29cfc7fc-de28-4ab7-9a8d-900c374f4177",
        "colab": {
          "base_uri": "https://localhost:8080/"
        }
      },
      "execution_count": 15,
      "outputs": [
        {
          "output_type": "stream",
          "name": "stdout",
          "text": [
            "1\n",
            "<class 'list'>\n",
            "[            date  Closing Price\n",
            "0            NaN            NaN\n",
            "1    29 Dec 2000         272.25\n",
            "2    28 Dec 2000         272.25\n",
            "3    27 Dec 2000         275.50\n",
            "4    26 Dec 2000         274.45\n",
            "..           ...            ...\n",
            "256  06 Jan 2000         281.45\n",
            "257  05 Jan 2000         280.85\n",
            "258  04 Jan 2000         282.38\n",
            "259  03 Jan 2000         289.00\n",
            "260  31 Dec 1999         288.25\n",
            "\n",
            "[261 rows x 2 columns]]\n"
          ]
        }
      ]
    }
  ]
}